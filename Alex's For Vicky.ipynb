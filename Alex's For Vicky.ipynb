{
 "cells": [
  {
   "cell_type": "code",
   "execution_count": 1,
   "metadata": {
    "collapsed": false
   },
   "outputs": [],
   "source": [
    "import numpy as np\n",
    "%config InlineBackend.rc = {}\n",
    "import matplotlib\n",
    "import matplotlib.pyplot as plt\n",
    "import matplotlib.colors as Color\n",
    "%matplotlib inline\n",
    "from astropy.utils.data import download_file\n",
    "from astropy.utils.data import get_pkg_data_filename\n",
    "from astropy.io import fits\n",
    "from matplotlib.colors import LogNorm\n",
    "from photutils import CircularAperture\n",
    "from astropy import units as u\n",
    "from photutils import aperture_photometry\n",
    "from photutils import CircularAnnulus\n",
    "from photutils import EllipticalAnnulus\n",
    "from math import sin, cos, pi\n",
    "from photutils import EllipticalAperture\n",
    "import pandas as pd\n",
    "import atpy\n",
    "import aplpy\n",
    "import montage_wrapper\n",
    "from math import log10\n",
    "from reproject import reproject_exact\n",
    "from reproject import reproject_interp\n",
    "from astropy.wcs import WCS"
   ]
  },
  {
   "cell_type": "markdown",
   "metadata": {},
   "source": [
    "In the cell below I changed 'letter' to 'b'"
   ]
  },
  {
   "cell_type": "code",
   "execution_count": 3,
   "metadata": {
    "collapsed": true
   },
   "outputs": [
    {
     "name": "stdout",
     "output_type": "stream",
     "text": [
      "302\n",
      "[[ 4.14043093  4.13967752  4.15774393 ...,  4.13975191  4.18290758\n",
      "   4.22847414]\n",
      " [ 4.13065386  4.13805246  4.15888834 ...,  4.11799097  4.15873957\n",
      "   4.20476961]\n",
      " [ 4.11391878  4.12917376  4.14774561 ...,  4.10567141  4.1396699\n",
      "   4.1817975 ]\n",
      " ..., \n",
      " [ 4.80656862  4.82338381  4.74584055 ...,  4.43056726  4.433146\n",
      "   4.44060755]\n",
      " [ 4.8434701   4.86390734  4.78356218 ...,  4.39282656  4.41404772\n",
      "   4.4355588 ]\n",
      " [ 4.83389711  4.84978151  4.77149057 ...,  4.34314775  4.37430429\n",
      "   4.40252542]]\n",
      "302\n",
      "[[ 10.58555031  10.56995964  10.5608902  ...,  10.54995441  10.55687332\n",
      "   10.5761919 ]\n",
      " [ 10.58709145  10.56505775  10.55175781 ...,  10.54625797  10.54475594\n",
      "   10.55368996]\n",
      " [ 10.5732584   10.55240345  10.54290104 ...,  10.54522896  10.53414536\n",
      "   10.53138828]\n",
      " ..., \n",
      " [ 10.75695038  10.74708939  10.70216274 ...,  10.72779846  10.73106098\n",
      "   10.72345543]\n",
      " [ 10.79081059  10.7778616   10.7264328  ...,  10.69552517  10.7111454\n",
      "   10.71141529]\n",
      " [ 10.806283    10.7920084   10.73991108 ...,  10.651227    10.68147373\n",
      "   10.69155312]]\n",
      "302\n",
      "[[ 805.39239502  805.53057861  805.69818115 ...,  805.36865234\n",
      "   805.35467529  805.48187256]\n",
      " [ 805.67474365  805.80462646  805.98699951 ...,  805.32348633\n",
      "   805.27459717  805.42449951]\n",
      " [ 805.93353271  805.99078369  806.10760498 ...,  805.4342041   805.33520508\n",
      "   805.50091553]\n",
      " ..., \n",
      " [ 806.82440186  806.68707275  806.50994873 ...,  806.0581665   806.49847412\n",
      "   807.00067139]\n",
      " [ 806.80340576  806.68896484  806.54553223 ...,  806.0255127   806.53277588\n",
      "   807.03765869]\n",
      " [ 806.74176025  806.61236572  806.47454834 ...,  806.08197021\n",
      "   806.59423828  807.04772949]]\n",
      "302\n",
      "[[ 270.11349487  270.13006592  270.14898682 ...,  270.19384766\n",
      "   270.19851685  270.20709229]\n",
      " [ 270.10797119  270.12683105  270.14758301 ...,  270.17715454\n",
      "   270.18023682  270.18786621]\n",
      " [ 270.10388184  270.12478638  270.14718628 ...,  270.16009521  270.1618042\n",
      "   270.1685791 ]\n",
      " ..., \n",
      " [ 270.37472534  270.34567261  270.32144165 ...,  270.34255981\n",
      "   270.33340454  270.31872559]\n",
      " [ 270.35369873  270.32180786  270.29650879 ...,  270.35067749\n",
      "   270.34075928  270.32598877]\n",
      " [ 270.32769775  270.2956543   270.27227783 ...,  270.35635376  270.3475647\n",
      "   270.33395386]]\n",
      "()\n",
      "10bsdss-u.fits\n",
      "1489\n",
      "[[1022 1021 1020 ..., 1021 1028 1028]\n",
      " [1021 1023 1018 ..., 1018 1025 1017]\n",
      " [1029 1014 1024 ..., 1019 1025 1017]\n",
      " ..., \n",
      " [1026 1019 1029 ..., 1022 1018 1027]\n",
      " [1020 1023 1026 ..., 1030 1015 1016]\n",
      " [1026 1017 1022 ..., 1018 1020 1026]]\n",
      "10bsdss-g.fits\n",
      "1489\n",
      "[[1086 1079 1090 ..., 1080 1087 1086]\n",
      " [1088 1086 1087 ..., 1087 1091 1087]\n",
      " [1089 1091 1086 ..., 1086 1098 1087]\n",
      " ..., \n",
      " [1088 1086 1089 ..., 1086 1094 1087]\n",
      " [1085 1088 1084 ..., 1088 1089 1090]\n",
      " [1095 1083 1087 ..., 1093 1090 1094]]\n",
      "10bsdss-r.fits\n",
      "1489\n",
      "[[1230 1223 1224 ..., 1217 1228 1230]\n",
      " [1229 1225 1230 ..., 1217 1238 1229]\n",
      " [1227 1230 1225 ..., 1225 1226 1229]\n",
      " ..., \n",
      " [1230 1233 1229 ..., 1223 1229 1217]\n",
      " [1225 1235 1226 ..., 1214 1228 1217]\n",
      " [1216 1238 1224 ..., 1221 1226 1224]]\n",
      "10bsdss-i.fits\n",
      "1489\n",
      "[[1298 1293 1305 ..., 1303 1292 1294]\n",
      " [1297 1295 1296 ..., 1299 1293 1299]\n",
      " [1297 1292 1305 ..., 1290 1298 1285]\n",
      " ..., \n",
      " [1291 1301 1295 ..., 1290 1289 1298]\n",
      " [1301 1297 1313 ..., 1282 1304 1291]\n",
      " [1299 1301 1303 ..., 1281 1299 1301]]\n",
      "10bsdss-z.fits\n",
      "1489\n",
      "[[1177 1177 1181 ..., 1189 1179 1181]\n",
      " [1181 1179 1189 ..., 1182 1186 1185]\n",
      " [1170 1198 1176 ..., 1191 1184 1182]\n",
      " ..., \n",
      " [1185 1178 1192 ..., 1182 1190 1173]\n",
      " [1181 1174 1171 ..., 1175 1187 1184]\n",
      " [1182 1182 1172 ..., 1187 1187 1175]]\n",
      "()\n",
      "415\n",
      "415\n",
      "415\n",
      "()\n"
     ]
    }
   ],
   "source": [
    "letter=\"b\"\n",
    "#i = 10\n",
    "#band=1\n",
    "arrmgePic = [1, 2, 3, 4, 5, 6, 7, 8, 9, 10, 11, 12, 13, 14, 15, 16, 17]\n",
    "image_file = [1, 2, 3]#, 4, 5, 6, 7, 8, 9, 10, 11, 12, 13, 14, 15, 16, 17]\n",
    "image_data = [1, 2, 3]#, 4, 5, 6, 7, 8, 9, 10, 11, 12, 13, 14, 15, 16, 17]\n",
    "flat_image = [1, 2, 3]#, 4, 5, 6, 7, 8, 9, 10, 11, 12, 13, 14, 15, 16, 17]\n",
    "flat_image2 = [1, 2, 3, 4]#, 5, 6, 7, 8, 9, 10, 11, 12, 13, 14, 15, 16, 17]\n",
    "testarray = [1, 2, 3]#, 4, 5, 6, 7, 8, 9, 10, 11, 12, 13, 14, 15, 16, 17]\n",
    "short_array = [1, 2, 3, 4, 5]\n",
    "image_file1 = [1, 2, 3, 4, 5]\n",
    "image_data1 = [1, 2, 3, 4, 5]\n",
    "testarray1 = [1, 2, 3, 4, 5]\n",
    "testarray2 = [1, 2, 3, 4]\n",
    "image_file2 = [1, 2, 3, 4]\n",
    "image_data2 = [1, 2, 3, 4]\n",
    "newtestarray2MASS = [1, 2, 3]\n",
    "newtestarraySDSS = [1, 2, 3, 4, 5]\n",
    "newtestarrayWISE = [1, 2, 3, 4]\n",
    "Length_Range_WISE = [1 ,2, 3, 4]\n",
    "Length_Range_SDSS = [1, 2, 3, 4, 5]\n",
    "Length_Range_2MASS = [1, 2, 3]\n",
    "\n",
    "for i in range(10, 11): #arrmgPic:\n",
    "    for bands in flat_image2:\n",
    "        image_file2[bands-1] = 'wise-%i%c-%i.fits' % (i, letter, bands)\n",
    "        hdu_list2 = fits.open(image_file2[bands-1])\n",
    "        image_data2[bands-1] = fits.getdata(image_file2[bands-1])\n",
    "        testarray2[bands-1]=image_file2[bands-1]\n",
    "        newtestarrayWISE[bands-1] = image_data2[bands-1]\n",
    "        Length_Range_WISE[bands-1]=len(newtestarrayWISE[bands-1])\n",
    "        print(len(newtestarrayWISE[bands-1]) )\n",
    "        print(newtestarrayWISE[bands-1])\n",
    "    #print(image_data2[0])\n",
    "    print( )\n",
    "\n",
    "for i in range(10, 11): #arrmgePic:\n",
    "    for numb in short_array:\n",
    "        if numb == 1:\n",
    "            color = 'u'\n",
    "        elif numb == 2:\n",
    "            color = 'g'\n",
    "        elif numb == 3:\n",
    "            color = 'r'\n",
    "        elif numb == 4:\n",
    "            color = 'i'\n",
    "        elif numb == 5:\n",
    "            color = 'z'\n",
    "        image_file1[numb-1] = '%i%csdss-%c.fits' % (i, letter, color)\n",
    "        hdu_list1 = fits.open(image_file1[numb-1])\n",
    "        image_data1[numb-1] = fits.getdata(image_file1[numb-1])\n",
    "        testarray1[numb-1] = image_file1[numb-1]\n",
    "        newtestarraySDSS[numb-1] = image_data1[numb-1]\n",
    "        print(image_file1[numb-1])\n",
    "        Length_Range_SDSS[numb-1]=len(newtestarraySDSS[numb-1])\n",
    "        print(len(newtestarraySDSS[numb-1]))\n",
    "        print(newtestarraySDSS[numb-1])\n",
    "    print( )\n",
    "\n",
    "for i in range(10, 11): #arrmgPic:\n",
    "    for band in flat_image:\n",
    "        if band == 1:\n",
    "            fill = 'h'\n",
    "        elif band == 2:\n",
    "            fill = 'j'\n",
    "        elif band == 3:\n",
    "            fill = 'k'\n",
    "        image_file[band-1] = '%d%ctwomass-%c.fits' % (i, letter, fill)\n",
    "        hdu_list = fits.open(image_file[band-1])\n",
    "        image_data[band-1] = fits.getdata(image_file[band-1])\n",
    "        testarray[band-1]=image_file[band-1]\n",
    "        newtestarray2MASS[band-1] = image_data[band-1] #np.delete(testarray[band-1], [121])\n",
    "        Length_Range_2MASS[band-1]=len(newtestarray2MASS[band-1])\n",
    "        print(len(newtestarray2MASS[band-1]))\n",
    "    print( )\n",
    "       \n",
    "    \n",
    "    \n",
    "    #cube = aplpy.make_rgb_cube([testarray1[0], testarray1[2], testarray1[1]], '/mnt/alt43-XDrive/Physics/Projects/MPhys Projects/2016-17/Gas Dust Galaxies/All Data/2MASS/OPRGB/%d%c%c_Gcube%d%c.fits' % (i, letter, fill, i, letter))\n",
    "    #cube = aplpy.make_rgb_cube([testarray[0], testarray[1], testarray[2], testarray[3]], '/mnt/alt43-XDrive/Physics/Projects/MPhys Projects/2016-17/Gas Dust Galaxies/All Data/WISE/%d%cPic_cube%d%c.fits' % (i, letter, i, letter))\n",
    "    #cube1 = '/mnt/alt43-XDrive/Physics/Projects/MPhys Projects/2016-17/Gas Dust Galaxies/All Data/2MASS/OPRGB/%d%c%c_Gcube%d%c.fits' % (i, letter, fill, i, letter)\n",
    "    #print(cube2)\n",
    "    #RGB_Image1 = aplpy.make_rgb_image(cube1,'/mnt/alt43-XDrive/Physics/Projects/MPhys Projects/2016-17/Gas Dust Galaxies/All Data/2MASS/OPRGB/%d%c%c_RGB.png' % (i, letter, fill), vmin_g=None, vmax_g=None, pmin_g=100, pmax_g=101)\n",
    "    #F_rgb = aplpy.FITSFigure('/mnt/alt43-XDrive/Physics/Projects/MPhys Projects/2016-17/Gas Dust Galaxies/All Data/2MASS/OPRGB/%d%c%c_Gcube%d%c_2d.fits' % (i, letter, fill, i, letter))\n",
    "    #F_rgb.show_rgb('/mnt/alt43-XDrive/Physics/Projects/MPhys Projects/2016-17/Gas Dust Galaxies/All Data/2MASS/OPRGB/%d%c%c_RGB.png' % (i, letter, fill))\n",
    "    #F_rgb.save('/mnt/alt43-XDrive/Physics/Projects/MPhys Projects/2016-17/Gas Dust Galaxies/All Data/2MASS/OPRGB/%d%c%c_RGB.png' % (i, letter, fill))"
   ]
  },
  {
   "cell_type": "code",
   "execution_count": 6,
   "metadata": {
    "collapsed": false
   },
   "outputs": [
    {
     "name": "stdout",
     "output_type": "stream",
     "text": [
      "10bsdss-g.fits\r\n",
      "10bsdss-i.fits\r\n",
      "10bsdss-r.fits\r\n",
      "10bsdss-u.fits\r\n",
      "10bsdss-z.fits\r\n",
      "10btwomass-h.fits\r\n",
      "10btwomass-j.fits\r\n",
      "10btwomass-k.fits\r\n",
      "Alex's For Vicky.ipynb\r\n",
      "Aperture Flux vs Radius Graphs - Newest.ipynb\r\n",
      "Colourwise Plots.ipynb\r\n",
      "Pairwise Plots, Effective Radii, Densities and Background Levels.ipynb\r\n",
      "initfile\r\n",
      "wise-10b-1.fits\r\n",
      "wise-10b-2.fits\r\n",
      "wise-10b-3.fits\r\n",
      "wise-10b-4.fits\r\n"
     ]
    }
   ],
   "source": [
    "ls"
   ]
  },
  {
   "cell_type": "code",
   "execution_count": 8,
   "metadata": {
    "collapsed": false
   },
   "outputs": [
    {
     "name": "stdout",
     "output_type": "stream",
     "text": [
      "18.9573861957\n",
      "17.5204255438\n",
      "1.43696065187\n"
     ]
    },
    {
     "data": {
      "text/plain": [
       "\"\\nThe for loops have a range of 230 which is not the correct length of the data in the FITS files' arrays.\\nNot sure what sort of range to apply to these for loops\\nThis code is giving an error of array indices being out of range and the for loops may be the result?\\n\""
      ]
     },
     "execution_count": 8,
     "metadata": {},
     "output_type": "execute_result"
    },
    {
     "data": {
      "image/png": "[encoded data removed]",
      "text/plain": [
       "<matplotlib.figure.Figure at 0x10921cd50>"
      ]
     },
     "metadata": {},
     "output_type": "display_data"
    }
   ],
   "source": [
    "new_image_array_WISE = [ [0] * Length_Range_WISE[0] for p in range(Length_Range_WISE[0])]\n",
    "new_image_array_SDSS = [ [0] * Length_Range_SDSS[0] for p in range(Length_Range_SDSS[0])]\n",
    "new_image_array_COMBINE = [ [0] * Length_Range_SDSS[0] for p in range(Length_Range_SDSS[0])]\n",
    "\n",
    "#print(newtestarray2[0])#[0][0])\n",
    "#print(newtestarray1[1])\n",
    "for y in range(1, Length_Range_WISE[0]):\n",
    "    for x in range(1, Length_Range_WISE[0]):\n",
    "        #S_FluxTotal = np.sum(newtestarray2[0])\n",
    "        new_image_array_WISE[y-1][x-1] = 20.5 - (2.5*(np.log10(newtestarrayWISE[0][y-1][x-1])))#W1-10a\n",
    "        \n",
    "for y in range(1, Length_Range_SDSS[0]):\n",
    "    for x in range(1, Length_Range_SDSS[0]):\n",
    "        #S_FluxTotal = np.sum(newtestarray2[0])      \n",
    "        new_image_array_SDSS[y-1][x-1] = 25.11 - (2.5*(np.log10(newtestarraySDSS[1][y-1][x-1])))#SDSS-g\n",
    "        #new_image_array3[y-1][x-1] = new_image_array2[y-1][x-1] - new_image_array1[y-1][x-1]      \n",
    "hduWISE = fits.PrimaryHDU(new_image_array_WISE)#WISE\n",
    "hduSDSS = fits.PrimaryHDU(new_image_array_SDSS)#SDSS\n",
    "hdulistWISE = fits.HDUList([hduWISE])\n",
    "hdulistSDSS = fits.HDUList([hduSDSS])\n",
    "hdulistWISE.writeto('NewFileWISE.fits', clobber=True)\n",
    "hdulistSDSS.writeto('NewFileSDSS.fits', clobber=True)\n",
    "Overlap_WISE = 'NewFileWISE.fits'\n",
    "Overlap_SDSS = 'NewFileSDSS.fits'\n",
    "#hdu_list_overlapA = fits.open(Overlap_A)\n",
    "#hdu_list_overlapB = fits.open(Overlap_B)\n",
    "image_overlap_dataWISE = fits.getdata(Overlap_WISE)\n",
    "image_overlap_dataSDSS = fits.getdata(Overlap_SDSS)\n",
    "shapeWISE = len(image_overlap_dataWISE)\n",
    "shapeSDSS = len(image_overlap_dataSDSS)\n",
    "hduWISE = fits.open(get_pkg_data_filename('NewFileWISE.fits'))[0]\n",
    "hduSDSS = fits.open(get_pkg_data_filename('NewFileSDSS.fits'))[0]\n",
    "wcsWISE = WCS(hduWISE.header)\n",
    "wcsSDSS = WCS(hduSDSS.header)\n",
    "reproj1, footprint1 = reproject_interp(hduWISE, wcsSDSS, shape_out=[Length_Range_SDSS[0],Length_Range_SDSS[0]])\n",
    "#reproj2 = reproject_interp(hduB, wcs1, shape_out=len(image_overlap_dataB))\n",
    "#print(footprint1)\n",
    "#print( new_image_array2)\n",
    "for y in range(1, 230):\n",
    "    for x in range(1, 230):\n",
    "        if footprint1[y-1][x-1] == 0:\n",
    "            break\n",
    "        else:\n",
    "            new_image_array_COMBINE[y-1][x-1] = reproj1[y-1][x-1] - image_overlap_dataSDSS[y-1][x-1]\n",
    "        \n",
    "        #new_image_array3[y-1][x-1] = reproj1[y-1][x-1] - reproj2[y-1][x-1]\n",
    "        #image_overlap_dataA[y-1][x-1] - image_overlap_dataB[y-1][x-1]\n",
    "\n",
    "print(new_image_array_WISE[0][0])\n",
    "print(new_image_array_SDSS[0][0])\n",
    "print(new_image_array_COMBINE[0][0])  \n",
    "\n",
    "plt.figure(1)\n",
    "plt.imshow(reproj1)\n",
    "\n",
    "'''\n",
    "The for loops have a range of 230 which is not the correct length of the data in the FITS files' arrays.\n",
    "Not sure what sort of range to apply to these for loops\n",
    "This code is giving an error of array indices being out of range and the for loops may be the result?\n",
    "'''"
   ]
  },
  {
   "cell_type": "markdown",
   "metadata": {},
   "source": [
    "Above image is what I got by running your code as is - I changed a typo in final 'else' command -- you had reproj instead of reproj1, but I didn't change anything else."
   ]
  },
  {
   "cell_type": "markdown",
   "metadata": {},
   "source": [
    "# Vicky tests start here\n",
    "\n",
    "Spitting up your code over multiple cells so I can understand what its doing a bit easier. I find it much easier to have the code over lots of cells, then you can track down where the problem is."
   ]
  },
  {
   "cell_type": "code",
   "execution_count": 4,
   "metadata": {
    "collapsed": false
   },
   "outputs": [],
   "source": [
    "new_image_array_WISE = [ [0] * Length_Range_WISE[0] for p in range(Length_Range_WISE[0])]\n",
    "new_image_array_SDSS = [ [0] * Length_Range_SDSS[0] for p in range(Length_Range_SDSS[0])]\n",
    "new_image_array_COMBINE = [ [0] * Length_Range_SDSS[0] for p in range(Length_Range_SDSS[0])]"
   ]
  },
  {
   "cell_type": "code",
   "execution_count": 5,
   "metadata": {
    "collapsed": false
   },
   "outputs": [],
   "source": [
    "def test_dim(testlist, dim=0):\n",
    "### tests how many dimensions a list has\n",
    "### copied from here: http://stackoverflow.com/questions/15985389/python-check-if-list-is-multidimensional-or-one-dimensional\n",
    "   if isinstance(testlist, list):\n",
    "      if testlist == []:\n",
    "          return dim\n",
    "      dim = dim + 1\n",
    "      dim = test_dim(testlist[0], dim)\n",
    "      return dim\n",
    "   else:\n",
    "      if dim == 0:\n",
    "          return -1\n",
    "      else:\n",
    "          return dim\n"
   ]
  },
  {
   "cell_type": "code",
   "execution_count": 6,
   "metadata": {
    "collapsed": false
   },
   "outputs": [
    {
     "data": {
      "text/plain": [
       "2"
      ]
     },
     "execution_count": 6,
     "metadata": {},
     "output_type": "execute_result"
    }
   ],
   "source": [
    "test_dim(new_image_array_WISE)"
   ]
  },
  {
   "cell_type": "code",
   "execution_count": 7,
   "metadata": {
    "collapsed": false
   },
   "outputs": [
    {
     "data": {
      "text/plain": [
       "(302, 302)"
      ]
     },
     "execution_count": 7,
     "metadata": {},
     "output_type": "execute_result"
    }
   ],
   "source": [
    "new_image_array_WISE = np.array(new_image_array_WISE)\n",
    "new_image_array_WISE.shape"
   ]
  },
  {
   "cell_type": "markdown",
   "metadata": {},
   "source": [
    "Previously, you had defined new_image_array_WISE as a length 302 list, where each element in the list was a length 302 list. What I've just done above is convert new_image_array_WISE to a numpy array, so now it's a 302x302 array. This might make things easier. Will do the same for the other definitions..."
   ]
  },
  {
   "cell_type": "code",
   "execution_count": 8,
   "metadata": {
    "collapsed": true
   },
   "outputs": [],
   "source": [
    "new_image_array_SDSS = np.array(new_image_array_SDSS)\n",
    "new_image_array_COMBINE = np.array(new_image_array_COMBINE)"
   ]
  },
  {
   "cell_type": "code",
   "execution_count": 9,
   "metadata": {
    "collapsed": true
   },
   "outputs": [],
   "source": [
    "#print(newtestarray2[0])#[0][0])\n",
    "#print(newtestarray1[1])\n",
    "for y in range(1, Length_Range_WISE[0]):\n",
    "    for x in range(1, Length_Range_WISE[0]):\n",
    "        #S_FluxTotal = np.sum(newtestarray2[0])\n",
    "        new_image_array_WISE[y-1][x-1] = 20.5 - (2.5*(np.log10(newtestarrayWISE[0][y-1][x-1])))#W1-10a\n",
    "        \n",
    "## This still works because the indexing is still the same even though the arrays have been converted. But they'll be easier to work with later on."
   ]
  },
  {
   "cell_type": "code",
   "execution_count": 10,
   "metadata": {
    "collapsed": false
   },
   "outputs": [],
   "source": [
    "for y in range(1, Length_Range_SDSS[0]):\n",
    "    for x in range(1, Length_Range_SDSS[0]):\n",
    "        #S_FluxTotal = np.sum(newtestarray2[0])      \n",
    "        new_image_array_SDSS[y-1][x-1] = 25.11 - (2.5*(np.log10(newtestarraySDSS[1][y-1][x-1])))#SDSS-g\n",
    "        #new_image_array3[y-1][x-1] = new_image_array2[y-1][x-1] - new_image_array1[y-1][x-1]      \n",
    "        \n",
    "        "
   ]
  },
  {
   "cell_type": "code",
   "execution_count": 11,
   "metadata": {
    "collapsed": true
   },
   "outputs": [],
   "source": [
    "hduWISE = fits.PrimaryHDU(new_image_array_WISE)#WISE\n",
    "hduSDSS = fits.PrimaryHDU(new_image_array_SDSS)#SDSS\n",
    "hdulistWISE = fits.HDUList([hduWISE])\n",
    "hdulistSDSS = fits.HDUList([hduSDSS])"
   ]
  },
  {
   "cell_type": "code",
   "execution_count": 44,
   "metadata": {
    "collapsed": false
   },
   "outputs": [
    {
     "data": {
      "text/plain": [
       "[<astropy.io.fits.hdu.image.PrimaryHDU at 0x10342ff90>]"
      ]
     },
     "execution_count": 44,
     "metadata": {},
     "output_type": "execute_result"
    }
   ],
   "source": [
    "hdulistWISE"
   ]
  },
  {
   "cell_type": "code",
   "execution_count": 12,
   "metadata": {
    "collapsed": true
   },
   "outputs": [],
   "source": [
    "hdulistWISE.writeto('NewFileWISE.fits', clobber=True)\n",
    "hdulistSDSS.writeto('NewFileSDSS.fits', clobber=True)"
   ]
  },
  {
   "cell_type": "markdown",
   "metadata": {},
   "source": [
    "The important step to take now is to check if these files contain what you expect. Display the images and print out the headers. Is this what you expect to see?"
   ]
  },
  {
   "cell_type": "code",
   "execution_count": 13,
   "metadata": {
    "collapsed": false
   },
   "outputs": [
    {
     "data": {
      "text/plain": [
       "SIMPLE  =                    T / conforms to FITS standard                      \n",
       "BITPIX  =                   64 / array data type                                \n",
       "NAXIS   =                    2 / number of array dimensions                     \n",
       "NAXIS1  =                  302                                                  \n",
       "NAXIS2  =                  302                                                  \n",
       "EXTEND  =                    T                                                  "
      ]
     },
     "execution_count": 13,
     "metadata": {},
     "output_type": "execute_result"
    },
    {
     "data": {
      "image/png": "[encoded data removed]",
      "text/plain": [
       "<matplotlib.figure.Figure at 0x10fd1afd0>"
      ]
     },
     "metadata": {},
     "output_type": "display_data"
    }
   ],
   "source": [
    "plt.figure(1)\n",
    "plt.imshow(hdulistWISE[0].data)\n",
    "plt.title('NewFileWISE.fits')\n",
    "\n",
    "hdulistWISE[0].header"
   ]
  },
  {
   "cell_type": "code",
   "execution_count": 14,
   "metadata": {
    "collapsed": false
   },
   "outputs": [
    {
     "data": {
      "text/plain": [
       "SIMPLE  =                    T / conforms to FITS standard                      \n",
       "BITPIX  =                   64 / array data type                                \n",
       "NAXIS   =                    2 / number of array dimensions                     \n",
       "NAXIS1  =                 1489                                                  \n",
       "NAXIS2  =                 1489                                                  \n",
       "EXTEND  =                    T                                                  "
      ]
     },
     "execution_count": 14,
     "metadata": {},
     "output_type": "execute_result"
    },
    {
     "data": {
      "image/png": "[encoded data removed]",
      "text/plain": [
       "<matplotlib.figure.Figure at 0x112cd1ed0>"
      ]
     },
     "metadata": {},
     "output_type": "display_data"
    }
   ],
   "source": [
    "plt.figure(1)\n",
    "plt.imshow(hdulistSDSS[0].data)\n",
    "plt.title('NewFileSDSS.fits')\n",
    "\n",
    "hdulistSDSS[0].header"
   ]
  },
  {
   "cell_type": "code",
   "execution_count": 15,
   "metadata": {
    "collapsed": true
   },
   "outputs": [],
   "source": [
    "Overlap_WISE = 'NewFileWISE.fits'\n",
    "Overlap_SDSS = 'NewFileSDSS.fits'\n",
    "\n",
    "#hdu_list_overlapA = fits.open(Overlap_A)\n",
    "#hdu_list_overlapB = fits.open(Overlap_B)\n",
    "image_overlap_dataWISE = fits.getdata(Overlap_WISE)\n",
    "image_overlap_dataSDSS = fits.getdata(Overlap_SDSS)\n",
    "shapeWISE = len(image_overlap_dataWISE)\n",
    "shapeSDSS = len(image_overlap_dataSDSS)"
   ]
  },
  {
   "cell_type": "code",
   "execution_count": 16,
   "metadata": {
    "collapsed": false
   },
   "outputs": [
    {
     "data": {
      "text/plain": [
       "(302, 302)"
      ]
     },
     "execution_count": 16,
     "metadata": {},
     "output_type": "execute_result"
    }
   ],
   "source": [
    "image_overlap_dataWISE = np.array(image_overlap_dataWISE)\n",
    "shapeWISE = image_overlap_dataWISE.shape\n",
    "shapeWISE"
   ]
  },
  {
   "cell_type": "code",
   "execution_count": 17,
   "metadata": {
    "collapsed": false
   },
   "outputs": [
    {
     "data": {
      "text/plain": [
       "(1489, 1489)"
      ]
     },
     "execution_count": 17,
     "metadata": {},
     "output_type": "execute_result"
    }
   ],
   "source": [
    "image_overlap_dataSDSS = np.array(image_overlap_dataSDSS)\n",
    "shapeSDSS = image_overlap_dataSDSS.shape\n",
    "shapeSDSS\n"
   ]
  },
  {
   "cell_type": "markdown",
   "metadata": {},
   "source": [
    "This is like what was happening before. There's just one extra step to convert the data from a list of lists (hard to work with) to an array, so when you call attributes like shape you get what you expect returned. Then if you want something like the length along one axis, you can call shapeWISE[0]"
   ]
  },
  {
   "cell_type": "code",
   "execution_count": 18,
   "metadata": {
    "collapsed": true
   },
   "outputs": [],
   "source": [
    "hduWISE = fits.open(get_pkg_data_filename('NewFileWISE.fits'))[0]\n",
    "hduSDSS = fits.open(get_pkg_data_filename('NewFileSDSS.fits'))[0]\n",
    "wcsWISE = WCS(hduWISE.header)\n",
    "wcsSDSS = WCS(hduSDSS.header)"
   ]
  },
  {
   "cell_type": "code",
   "execution_count": 19,
   "metadata": {
    "collapsed": false
   },
   "outputs": [
    {
     "name": "stdout",
     "output_type": "stream",
     "text": [
      "wcsWISE\n",
      "WCS Keywords\n",
      "\n",
      "Number of WCS axes: 2\n",
      "CTYPE : ''  ''  \n",
      "CRVAL : 0.0  0.0  \n",
      "CRPIX : 0.0  0.0  \n",
      "PC1_1 PC1_2  : 1.0  0.0  \n",
      "PC2_1 PC2_2  : 0.0  1.0  \n",
      "CDELT : 1.0  1.0  \n",
      "NAXIS    : 302 302\n",
      "\n",
      "\n",
      "wcsSDSS\n",
      "WCS Keywords\n",
      "\n",
      "Number of WCS axes: 2\n",
      "CTYPE : ''  ''  \n",
      "CRVAL : 0.0  0.0  \n",
      "CRPIX : 0.0  0.0  \n",
      "PC1_1 PC1_2  : 1.0  0.0  \n",
      "PC2_1 PC2_2  : 0.0  1.0  \n",
      "CDELT : 1.0  1.0  \n",
      "NAXIS    : 1489 1489\n"
     ]
    }
   ],
   "source": [
    "print 'wcsWISE'\n",
    "print wcsWISE\n",
    "print '\\n'\n",
    "print 'wcsSDSS'\n",
    "print wcsSDSS"
   ]
  },
  {
   "cell_type": "code",
   "execution_count": 20,
   "metadata": {
    "collapsed": false
   },
   "outputs": [
    {
     "name": "stdout",
     "output_type": "stream",
     "text": [
      "18\n",
      "17\n",
      "1\n"
     ]
    },
    {
     "data": {
      "text/plain": [
       "<matplotlib.image.AxesImage at 0x110319790>"
      ]
     },
     "execution_count": 20,
     "metadata": {},
     "output_type": "execute_result"
    },
    {
     "data": {
      "image/png": "[encoded data removed]",
      "text/plain": [
       "<matplotlib.figure.Figure at 0x1102eab90>"
      ]
     },
     "metadata": {},
     "output_type": "display_data"
    }
   ],
   "source": [
    "reproj1, footprint1 = reproject_interp(hduWISE, wcsSDSS, shape_out=[Length_Range_SDSS[0],Length_Range_SDSS[0]])\n",
    "#reproj2 = reproject_interp(hduB, wcs1, shape_out=len(image_overlap_dataB))\n",
    "#print(footprint1)\n",
    "#print( new_image_array2)\n",
    "for y in range(1, 230):\n",
    "    for x in range(1, 230):\n",
    "        if footprint1[y-1][x-1] == 0:\n",
    "            break\n",
    "        else:\n",
    "            new_image_array_COMBINE[y-1][x-1] = reproj1[y-1][x-1] - image_overlap_dataSDSS[y-1][x-1]\n",
    "        \n",
    "        #new_image_array3[y-1][x-1] = reproj1[y-1][x-1] - reproj2[y-1][x-1]\n",
    "        #image_overlap_dataA[y-1][x-1] - image_overlap_dataB[y-1][x-1]\n",
    "\n",
    "print(new_image_array_WISE[0][0])\n",
    "print(new_image_array_SDSS[0][0])\n",
    "print(new_image_array_COMBINE[0][0])  \n",
    "\n",
    "plt.figure(1)\n",
    "plt.imshow(reproj1)\n",
    "\n"
   ]
  },
  {
   "cell_type": "markdown",
   "metadata": {},
   "source": [
    "So now this plot makes a lot more sense! Because both of your new images - NewFileWISE.fits and NewFileSDSS.fits - are missing all the WCS information from the header, the reproj code sets all the parameters to the default values. This means it thinks there isn't any reprojecting to do because the images are already in the same system. "
   ]
  },
  {
   "cell_type": "markdown",
   "metadata": {
    "collapsed": false
   },
   "source": [
    "### Suggestions for next steps\n",
    "\n",
    "There's a key point early on in your code that results in the images not having WCS information in the header. If you solve that issue, your code will work. I'm not going to tell you exactly what to do because you can absolutely get it yourself, we just need to simplify the code a little bit (and that's a good thing).\n",
    "\n",
    "1. Try to break up your code into steps, like I have here, to find where the problem is and see if you could simplify what's going on at that stage. What are you doing to the images there? It's easier to get one thing working then to add a step than to try to add all the things at once.\n",
    "\n",
    "2. Check what's actually in your variables, arrays, images, headers, etc at each stage too. Again, this is easier if you break it up into chunks. It's totally OK to have one line of code in a cell. Here's an example of some (what I thought initially would be simple) code that took me a looooong time to debug: https://github.com/vickyscowcroft/ipython_notebooks/blob/master/simple_rrlyrae_lightcurves.ipynb If you look at the first 12 cells, I keep printing the same table and the length of the arrays out. That was because I was trying to match some tables using the name of the stars, but the capital letters were messing everything up. It took literally days to fix, but the only way I could see what was going on was looking at what was in the tables to see if they were what I thought they should be. \n",
    "\n",
    "3. Comment your code! It will be really helpful to you later on if you write now what you think it should do, what it actually does, and why you think it might not be doing what you think. Even something you think is super obvious now will not be in a weeks time. LEARN FROM MY MISFORTUNE."
   ]
  },
  {
   "cell_type": "code",
   "execution_count": null,
   "metadata": {
    "collapsed": true
   },
   "outputs": [],
   "source": []
  }
 ],
 "metadata": {
  "anaconda-cloud": {},
  "kernelspec": {
   "display_name": "Python [astroconda]",
   "language": "python",
   "name": "Python [astroconda]"
  },
  "language_info": {
   "codemirror_mode": {
    "name": "ipython",
    "version": 2
   },
   "file_extension": ".py",
   "mimetype": "text/x-python",
   "name": "python",
   "nbconvert_exporter": "python",
   "pygments_lexer": "ipython2",
   "version": "2.7.12"
  }
 },
 "nbformat": 4,
 "nbformat_minor": 1
}
